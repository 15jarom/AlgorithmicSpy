{
 "cells": [
  {
   "cell_type": "code",
   "execution_count": 2,
   "id": "2de1f48b-7e48-446a-a582-151b369ec25c",
   "metadata": {
    "tags": []
   },
   "outputs": [],
   "source": [
    "# Import libraries and dependencies\n",
    "import numpy as np\n",
    "import pandas as pd\n",
    "import os\n",
    "import requests\n",
    "from pathlib import Path\n",
    "%matplotlib inline\n",
    "from sklearn.model_selection import train_test_split\n",
    "from sklearn.linear_model import LinearRegression\n",
    "from sklearn.metrics import r2_score\n",
    "from datetime import date\n",
    "import matplotlib.pyplot as plt\n",
    "import seaborn as sns\n",
    "\n",
    "\n",
    "import warnings\n",
    "warnings.filterwarnings(\"ignore\")"
   ]
  },
  {
   "cell_type": "code",
   "execution_count": 1,
   "id": "a692e544-39c1-4c46-851c-0ea2539d0ed6",
   "metadata": {
    "tags": []
   },
   "outputs": [],
   "source": [
    "# Import API data\n",
    "from dotenv import load_dotenv\n",
    "import alpaca_trade_api as tradeapi"
   ]
  },
  {
   "cell_type": "code",
   "execution_count": 5,
   "id": "a3155afb-c881-4266-bb1d-8fd6e60a6c13",
   "metadata": {
    "tags": []
   },
   "outputs": [
    {
     "data": {
      "text/plain": [
       "True"
      ]
     },
     "execution_count": 5,
     "metadata": {},
     "output_type": "execute_result"
    }
   ],
   "source": [
    "# Load .env enviroment variables\n",
    "load_dotenv(\"ProjectAPI.env\")"
   ]
  },
  {
   "cell_type": "code",
   "execution_count": 13,
   "id": "23138fcb-b002-4117-abc7-68bdee16c573",
   "metadata": {
    "tags": []
   },
   "outputs": [],
   "source": [
    "# The original tickers plus 6 new ones to consider other golbal market, across various sectors compared to the global spy movement  \n",
    "\n",
    "# Set the tickers\n",
    "tickers = [\"SPY\", \"IWM\", \"EZU\", \"EWU\", \"EWJ\", \"EWZ\", \"EWA\", \"EWC\", \"MCHI\", \"EWW\", 'XLK','XLV','XLP','ARKK','ICLN','ROBO',]\n",
    "\n",
    "# Create the shares DataFrame\n",
    "df_etf = pd.DataFrame(index=tickers)"
   ]
  },
  {
   "cell_type": "code",
   "execution_count": 14,
   "id": "0aa7415f-936b-441b-a6b6-86afcdc26a26",
   "metadata": {
    "tags": []
   },
   "outputs": [
    {
     "name": "stdout",
     "output_type": "stream",
     "text": [
      "Alpaca Key type: <class 'str'>\n",
      "Alpaca Secret Key type: <class 'str'>\n"
     ]
    }
   ],
   "source": [
    "# Set Alpaca API key and secret\n",
    "alpaca_api_key = os.getenv(\"Alpaca_API_Key\")\n",
    "alpaca_secret_key = os.getenv(\"Alpaca_Secret_Key\")\n",
    "\n",
    "# Verify that Alpaca key and secret were correctly loaded\n",
    "print(f\"Alpaca Key type: {type(alpaca_api_key)}\")\n",
    "print(f\"Alpaca Secret Key type: {type(alpaca_secret_key)}\")"
   ]
  },
  {
   "cell_type": "code",
   "execution_count": 15,
   "id": "eb3193f9-1a85-47f3-a283-d5d3bf03acc3",
   "metadata": {
    "tags": []
   },
   "outputs": [],
   "source": [
    "# Create the Alpaca API object\n",
    "alpaca = tradeapi.REST(\n",
    "    alpaca_api_key,\n",
    "    alpaca_secret_key,\n",
    "    api_version=\"v2\")"
   ]
  },
  {
   "cell_type": "code",
   "execution_count": 16,
   "id": "200db80c-818a-45d0-94b8-3a676cb30402",
   "metadata": {
    "tags": []
   },
   "outputs": [],
   "source": [
    "# Create current date variable\n",
    "import datetime\n",
    "today = datetime.date.today()\n",
    "historical = today - datetime.timedelta(days=550)"
   ]
  },
  {
   "cell_type": "code",
   "execution_count": 17,
   "id": "86e9c755-73d5-4cd4-8bc3-013356262d6e",
   "metadata": {
    "tags": []
   },
   "outputs": [],
   "source": [
    "# Format current date as ISO format\n",
    "# Set start and end datetimes of 18 months\n",
    "start_date = pd.Timestamp(historical, tz=\"America/New_York\").isoformat()\n",
    "end_date = pd.Timestamp(today, tz=\"America/New_York\").isoformat()"
   ]
  },
  {
   "cell_type": "code",
   "execution_count": 19,
   "id": "017c62ec-f077-4d49-8a22-8013b21168ee",
   "metadata": {
    "tags": []
   },
   "outputs": [],
   "source": [
    "# Set timeframe to 18 months for the Alpaca API\n",
    "timeframe = \"1Day\"\n"
   ]
  },
  {
   "cell_type": "code",
   "execution_count": 20,
   "id": "b407b4cc-ad65-49fb-810c-a379ad9f8103",
   "metadata": {
    "tags": []
   },
   "outputs": [
    {
     "data": {
      "text/html": [
       "<div>\n",
       "<style scoped>\n",
       "    .dataframe tbody tr th:only-of-type {\n",
       "        vertical-align: middle;\n",
       "    }\n",
       "\n",
       "    .dataframe tbody tr th {\n",
       "        vertical-align: top;\n",
       "    }\n",
       "\n",
       "    .dataframe thead th {\n",
       "        text-align: right;\n",
       "    }\n",
       "</style>\n",
       "<table border=\"1\" class=\"dataframe\">\n",
       "  <thead>\n",
       "    <tr style=\"text-align: right;\">\n",
       "      <th></th>\n",
       "      <th>close</th>\n",
       "      <th>high</th>\n",
       "      <th>low</th>\n",
       "      <th>trade_count</th>\n",
       "      <th>open</th>\n",
       "      <th>volume</th>\n",
       "      <th>vwap</th>\n",
       "      <th>symbol</th>\n",
       "    </tr>\n",
       "    <tr>\n",
       "      <th>timestamp</th>\n",
       "      <th></th>\n",
       "      <th></th>\n",
       "      <th></th>\n",
       "      <th></th>\n",
       "      <th></th>\n",
       "      <th></th>\n",
       "      <th></th>\n",
       "      <th></th>\n",
       "    </tr>\n",
       "  </thead>\n",
       "  <tbody>\n",
       "    <tr>\n",
       "      <th>2022-08-19 04:00:00+00:00</th>\n",
       "      <td>44.69</td>\n",
       "      <td>46.410</td>\n",
       "      <td>44.490</td>\n",
       "      <td>151243</td>\n",
       "      <td>46.2400</td>\n",
       "      <td>28454333</td>\n",
       "      <td>45.071206</td>\n",
       "      <td>ARKK</td>\n",
       "    </tr>\n",
       "    <tr>\n",
       "      <th>2022-08-22 04:00:00+00:00</th>\n",
       "      <td>43.61</td>\n",
       "      <td>44.790</td>\n",
       "      <td>43.280</td>\n",
       "      <td>137461</td>\n",
       "      <td>43.9600</td>\n",
       "      <td>24679569</td>\n",
       "      <td>43.775314</td>\n",
       "      <td>ARKK</td>\n",
       "    </tr>\n",
       "    <tr>\n",
       "      <th>2022-08-23 04:00:00+00:00</th>\n",
       "      <td>43.37</td>\n",
       "      <td>44.600</td>\n",
       "      <td>42.730</td>\n",
       "      <td>110431</td>\n",
       "      <td>43.5001</td>\n",
       "      <td>20800628</td>\n",
       "      <td>43.558235</td>\n",
       "      <td>ARKK</td>\n",
       "    </tr>\n",
       "    <tr>\n",
       "      <th>2022-08-24 04:00:00+00:00</th>\n",
       "      <td>44.50</td>\n",
       "      <td>45.150</td>\n",
       "      <td>43.140</td>\n",
       "      <td>88085</td>\n",
       "      <td>43.5800</td>\n",
       "      <td>17435658</td>\n",
       "      <td>44.435014</td>\n",
       "      <td>ARKK</td>\n",
       "    </tr>\n",
       "    <tr>\n",
       "      <th>2022-08-25 04:00:00+00:00</th>\n",
       "      <td>45.78</td>\n",
       "      <td>45.780</td>\n",
       "      <td>44.380</td>\n",
       "      <td>77794</td>\n",
       "      <td>45.0400</td>\n",
       "      <td>14731237</td>\n",
       "      <td>45.146808</td>\n",
       "      <td>ARKK</td>\n",
       "    </tr>\n",
       "    <tr>\n",
       "      <th>...</th>\n",
       "      <td>...</td>\n",
       "      <td>...</td>\n",
       "      <td>...</td>\n",
       "      <td>...</td>\n",
       "      <td>...</td>\n",
       "      <td>...</td>\n",
       "      <td>...</td>\n",
       "      <td>...</td>\n",
       "    </tr>\n",
       "    <tr>\n",
       "      <th>2024-02-13 05:00:00+00:00</th>\n",
       "      <td>142.86</td>\n",
       "      <td>144.470</td>\n",
       "      <td>142.150</td>\n",
       "      <td>96008</td>\n",
       "      <td>143.4700</td>\n",
       "      <td>11170135</td>\n",
       "      <td>142.935492</td>\n",
       "      <td>XLV</td>\n",
       "    </tr>\n",
       "    <tr>\n",
       "      <th>2024-02-14 05:00:00+00:00</th>\n",
       "      <td>144.10</td>\n",
       "      <td>144.150</td>\n",
       "      <td>143.075</td>\n",
       "      <td>83201</td>\n",
       "      <td>143.3500</td>\n",
       "      <td>9701053</td>\n",
       "      <td>143.630030</td>\n",
       "      <td>XLV</td>\n",
       "    </tr>\n",
       "    <tr>\n",
       "      <th>2024-02-15 05:00:00+00:00</th>\n",
       "      <td>145.15</td>\n",
       "      <td>145.430</td>\n",
       "      <td>143.990</td>\n",
       "      <td>90086</td>\n",
       "      <td>144.2000</td>\n",
       "      <td>9294805</td>\n",
       "      <td>144.959734</td>\n",
       "      <td>XLV</td>\n",
       "    </tr>\n",
       "    <tr>\n",
       "      <th>2024-02-16 05:00:00+00:00</th>\n",
       "      <td>145.62</td>\n",
       "      <td>146.605</td>\n",
       "      <td>144.820</td>\n",
       "      <td>91429</td>\n",
       "      <td>145.3400</td>\n",
       "      <td>8424170</td>\n",
       "      <td>145.843209</td>\n",
       "      <td>XLV</td>\n",
       "    </tr>\n",
       "    <tr>\n",
       "      <th>2024-02-20 05:00:00+00:00</th>\n",
       "      <td>145.13</td>\n",
       "      <td>146.190</td>\n",
       "      <td>144.765</td>\n",
       "      <td>101438</td>\n",
       "      <td>145.7300</td>\n",
       "      <td>9120547</td>\n",
       "      <td>145.474795</td>\n",
       "      <td>XLV</td>\n",
       "    </tr>\n",
       "  </tbody>\n",
       "</table>\n",
       "<p>6032 rows × 8 columns</p>\n",
       "</div>"
      ],
      "text/plain": [
       "                            close     high      low  trade_count      open  \\\n",
       "timestamp                                                                    \n",
       "2022-08-19 04:00:00+00:00   44.69   46.410   44.490       151243   46.2400   \n",
       "2022-08-22 04:00:00+00:00   43.61   44.790   43.280       137461   43.9600   \n",
       "2022-08-23 04:00:00+00:00   43.37   44.600   42.730       110431   43.5001   \n",
       "2022-08-24 04:00:00+00:00   44.50   45.150   43.140        88085   43.5800   \n",
       "2022-08-25 04:00:00+00:00   45.78   45.780   44.380        77794   45.0400   \n",
       "...                           ...      ...      ...          ...       ...   \n",
       "2024-02-13 05:00:00+00:00  142.86  144.470  142.150        96008  143.4700   \n",
       "2024-02-14 05:00:00+00:00  144.10  144.150  143.075        83201  143.3500   \n",
       "2024-02-15 05:00:00+00:00  145.15  145.430  143.990        90086  144.2000   \n",
       "2024-02-16 05:00:00+00:00  145.62  146.605  144.820        91429  145.3400   \n",
       "2024-02-20 05:00:00+00:00  145.13  146.190  144.765       101438  145.7300   \n",
       "\n",
       "                             volume        vwap symbol  \n",
       "timestamp                                               \n",
       "2022-08-19 04:00:00+00:00  28454333   45.071206   ARKK  \n",
       "2022-08-22 04:00:00+00:00  24679569   43.775314   ARKK  \n",
       "2022-08-23 04:00:00+00:00  20800628   43.558235   ARKK  \n",
       "2022-08-24 04:00:00+00:00  17435658   44.435014   ARKK  \n",
       "2022-08-25 04:00:00+00:00  14731237   45.146808   ARKK  \n",
       "...                             ...         ...    ...  \n",
       "2024-02-13 05:00:00+00:00  11170135  142.935492    XLV  \n",
       "2024-02-14 05:00:00+00:00   9701053  143.630030    XLV  \n",
       "2024-02-15 05:00:00+00:00   9294805  144.959734    XLV  \n",
       "2024-02-16 05:00:00+00:00   8424170  145.843209    XLV  \n",
       "2024-02-20 05:00:00+00:00   9120547  145.474795    XLV  \n",
       "\n",
       "[6032 rows x 8 columns]"
      ]
     },
     "execution_count": 20,
     "metadata": {},
     "output_type": "execute_result"
    }
   ],
   "source": [
    "#8\n",
    "# Get 18 months of pricing data for ETF portfolio\n",
    "df_portfolio = alpaca.get_bars(tickers, timeframe, start=start_date, end=end_date).df\n",
    "\n",
    "df_portfolio"
   ]
  },
  {
   "cell_type": "code",
   "execution_count": null,
   "id": "637009a8-e589-4dc5-bf06-67f44ed301be",
   "metadata": {},
   "outputs": [],
   "source": []
  }
 ],
 "metadata": {
  "kernelspec": {
   "display_name": "Python 3 (ipykernel)",
   "language": "python",
   "name": "python3"
  },
  "language_info": {
   "codemirror_mode": {
    "name": "ipython",
    "version": 3
   },
   "file_extension": ".py",
   "mimetype": "text/x-python",
   "name": "python",
   "nbconvert_exporter": "python",
   "pygments_lexer": "ipython3",
   "version": "3.10.13"
  }
 },
 "nbformat": 4,
 "nbformat_minor": 5
}
